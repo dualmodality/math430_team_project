{
 "cells": [
  {
   "cell_type": "code",
   "execution_count": 1,
   "id": "e973b3b1-8596-4401-b0a2-762c16a54fca",
   "metadata": {
    "tags": []
   },
   "outputs": [],
   "source": [
    "#The main Jupyter notebook for running our simulation. For now we can also use this notebook to test out code segments\n",
    "\n",
    "import numpy as np\n",
    "import matplotlib.pyplot as plt\n",
    "import pandas as pd\n",
    "import CSJModel as csj"
   ]
  },
  {
   "cell_type": "code",
   "execution_count": 2,
   "id": "63dcde9d-a21f-4db2-bcf2-1af61dec8fe8",
   "metadata": {},
   "outputs": [],
   "source": [
    "#Model Parameters\n",
    "length_of_growing_season = 150\n",
    "n_seasons_per_trial = 10\n",
    "n_trials = 10000\n",
    "n_plots = 4\n",
    "plot_capacity = 1000\n",
    "initial_soil_sat = 0.5\n",
    "base_soil_sat_loss_rate = 0.05\n",
    "biomass_water_demand_rate = 0.001\n",
    "end_of_season_die_off = 0.9\n",
    "temp = 20\n",
    "rel_hum = .7"
   ]
  },
  {
   "cell_type": "code",
   "execution_count": null,
   "id": "bc02d6c3-4d90-4c26-b7d8-77cb7b6be256",
   "metadata": {},
   "outputs": [],
   "source": [
    "trial_list = []\n",
    "for trial in range(n_trials):\n",
    "    trial_dict = {}"
   ]
  },
  {
   "cell_type": "code",
   "execution_count": 18,
   "id": "1ae732de-2da0-4521-b660-c50dac248bf9",
   "metadata": {
    "tags": []
   },
   "outputs": [],
   "source": [
    "class Plant:\n",
    "    \n",
    "    def __init__(self, n, rate, k, alpha):\n",
    "        self.name = str(n)\n",
    "        self.base_growth_rate = rate\n",
    "        self.ideal_soil_sat = k\n",
    "        self.ideal_sat_alpha = alpha\n",
    "    \n",
    "    def growth_rate(self, soil_sat):\n",
    "        return (-1 * self.ideal_sat_alpha * (soil_sat - self.ideal_soil_sat) ** 2 + 1) * self.base_growth_rate\n",
    "\n",
    "test = Plant('my_plant', 0.01, 0.5, 10)"
   ]
  },
  {
   "cell_type": "code",
   "execution_count": 19,
   "id": "a52c89aa-3c1c-48c0-b464-5177123cd7be",
   "metadata": {},
   "outputs": [],
   "source": [
    "class Plot:\n",
    "    \n",
    "    def __init__(self, plant_list, cap, sat, h2o_base_rate, h2o_biomass_rate):\n",
    "        self.species_list = plant_list\n",
    "        self.capacity = cap\n",
    "        self.soil_saturation = sat\n",
    "        self.base_saturation_rate = h2o_base_rate\n",
    "        self.biomass_h2o_demand = h2o_biomass_rate\n",
    "    \n",
    "    def dry(self):\n",
    "        total_biomass = 0\n",
    "        for plant_dict in self.species_list:\n",
    "            total_biomass += plant_dict['biomass']\n",
    "        self.soil_saturation = (1 - (self.base_saturation_rate + self.biomass_h2o_demand * total_biomass)) * self.soil_saturation\n",
    "    \n",
    "    def wet(self, sat):\n",
    "        self.soil_saturation = sat\n",
    "\n"
   ]
  },
  {
   "cell_type": "code",
   "execution_count": 23,
   "id": "fd122e32-3e23-441b-bb62-86e681abf188",
   "metadata": {},
   "outputs": [
    {
     "data": {
      "text/html": [
       "<div>\n",
       "<style scoped>\n",
       "    .dataframe tbody tr th:only-of-type {\n",
       "        vertical-align: middle;\n",
       "    }\n",
       "\n",
       "    .dataframe tbody tr th {\n",
       "        vertical-align: top;\n",
       "    }\n",
       "\n",
       "    .dataframe thead th {\n",
       "        text-align: right;\n",
       "    }\n",
       "</style>\n",
       "<table border=\"1\" class=\"dataframe\">\n",
       "  <thead>\n",
       "    <tr style=\"text-align: right;\">\n",
       "      <th></th>\n",
       "      <th>biomass</th>\n",
       "      <th>soil_sat</th>\n",
       "    </tr>\n",
       "    <tr>\n",
       "      <th>time</th>\n",
       "      <th></th>\n",
       "      <th></th>\n",
       "    </tr>\n",
       "  </thead>\n",
       "  <tbody>\n",
       "    <tr>\n",
       "      <th>0</th>\n",
       "      <td>10.099000</td>\n",
       "      <td>0.469950</td>\n",
       "    </tr>\n",
       "    <tr>\n",
       "      <th>1</th>\n",
       "      <td>10.198067</td>\n",
       "      <td>0.441660</td>\n",
       "    </tr>\n",
       "    <tr>\n",
       "      <th>2</th>\n",
       "      <td>10.295573</td>\n",
       "      <td>0.415030</td>\n",
       "    </tr>\n",
       "    <tr>\n",
       "      <th>3</th>\n",
       "      <td>10.390112</td>\n",
       "      <td>0.389967</td>\n",
       "    </tr>\n",
       "    <tr>\n",
       "      <th>4</th>\n",
       "      <td>10.480484</td>\n",
       "      <td>0.366381</td>\n",
       "    </tr>\n",
       "    <tr>\n",
       "      <th>...</th>\n",
       "      <td>...</td>\n",
       "      <td>...</td>\n",
       "    </tr>\n",
       "    <tr>\n",
       "      <th>145</th>\n",
       "      <td>19.432433</td>\n",
       "      <td>0.644882</td>\n",
       "    </tr>\n",
       "    <tr>\n",
       "      <th>146</th>\n",
       "      <td>19.582983</td>\n",
       "      <td>0.600009</td>\n",
       "    </tr>\n",
       "    <tr>\n",
       "      <th>147</th>\n",
       "      <td>19.755775</td>\n",
       "      <td>0.558155</td>\n",
       "    </tr>\n",
       "    <tr>\n",
       "      <th>148</th>\n",
       "      <td>19.942881</td>\n",
       "      <td>0.519116</td>\n",
       "    </tr>\n",
       "    <tr>\n",
       "      <th>149</th>\n",
       "      <td>20.137618</td>\n",
       "      <td>0.482706</td>\n",
       "    </tr>\n",
       "  </tbody>\n",
       "</table>\n",
       "<p>150 rows × 2 columns</p>\n",
       "</div>"
      ],
      "text/plain": [
       "        biomass  soil_sat\n",
       "time                     \n",
       "0     10.099000  0.469950\n",
       "1     10.198067  0.441660\n",
       "2     10.295573  0.415030\n",
       "3     10.390112  0.389967\n",
       "4     10.480484  0.366381\n",
       "...         ...       ...\n",
       "145   19.432433  0.644882\n",
       "146   19.582983  0.600009\n",
       "147   19.755775  0.558155\n",
       "148   19.942881  0.519116\n",
       "149   20.137618  0.482706\n",
       "\n",
       "[150 rows x 2 columns]"
      ]
     },
     "execution_count": 23,
     "metadata": {},
     "output_type": "execute_result"
    }
   ],
   "source": [
    "import random\n",
    "test_plot = Plot([{'species':test, 'biomass':10}], plot_capacity, initial_soil_sat, base_soil_sat_loss_rate, biomass_water_demand_rate)\n",
    "\n",
    "daily_list = []\n",
    "for time in range(length_of_growing_season):\n",
    "    for plant_dict in test_plot.species_list:\n",
    "        plant_dict['biomass'] += plant_dict['species'].growth_rate(test_plot.soil_saturation) * plant_dict['biomass'] * (1 - (plant_dict['biomass']/test_plot.capacity))\n",
    "        if random.randint(0, 100) > 94:\n",
    "            test_plot.wet(0.8)\n",
    "        else:\n",
    "            test_plot.dry()\n",
    "    daily_list.append({'time': time, 'biomass': test_plot.species_list[0]['biomass'], 'soil_sat': test_plot.soil_saturation})\n",
    "df = pd.DataFrame.from_records(daily_list, index='time')\n",
    "df\n",
    "        "
   ]
  },
  {
   "cell_type": "code",
   "execution_count": 25,
   "id": "255ffa93-4617-49a7-8069-769627bf5c38",
   "metadata": {
    "tags": []
   },
   "outputs": [
    {
     "data": {
      "text/html": [
       "<div>\n",
       "<style scoped>\n",
       "    .dataframe tbody tr th:only-of-type {\n",
       "        vertical-align: middle;\n",
       "    }\n",
       "\n",
       "    .dataframe tbody tr th {\n",
       "        vertical-align: top;\n",
       "    }\n",
       "\n",
       "    .dataframe thead th {\n",
       "        text-align: right;\n",
       "    }\n",
       "</style>\n",
       "<table border=\"1\" class=\"dataframe\">\n",
       "  <thead>\n",
       "    <tr style=\"text-align: right;\">\n",
       "      <th></th>\n",
       "      <th>biomass</th>\n",
       "      <th>soil_sat</th>\n",
       "    </tr>\n",
       "  </thead>\n",
       "  <tbody>\n",
       "    <tr>\n",
       "      <th>count</th>\n",
       "      <td>150.000000</td>\n",
       "      <td>150.000000</td>\n",
       "    </tr>\n",
       "    <tr>\n",
       "      <th>mean</th>\n",
       "      <td>14.796386</td>\n",
       "      <td>0.431194</td>\n",
       "    </tr>\n",
       "    <tr>\n",
       "      <th>std</th>\n",
       "      <td>2.865822</td>\n",
       "      <td>0.219110</td>\n",
       "    </tr>\n",
       "    <tr>\n",
       "      <th>min</th>\n",
       "      <td>10.099000</td>\n",
       "      <td>0.061393</td>\n",
       "    </tr>\n",
       "    <tr>\n",
       "      <th>25%</th>\n",
       "      <td>12.219865</td>\n",
       "      <td>0.240053</td>\n",
       "    </tr>\n",
       "    <tr>\n",
       "      <th>50%</th>\n",
       "      <td>14.969650</td>\n",
       "      <td>0.416034</td>\n",
       "    </tr>\n",
       "    <tr>\n",
       "      <th>75%</th>\n",
       "      <td>17.348418</td>\n",
       "      <td>0.612023</td>\n",
       "    </tr>\n",
       "    <tr>\n",
       "      <th>max</th>\n",
       "      <td>20.137618</td>\n",
       "      <td>0.800000</td>\n",
       "    </tr>\n",
       "  </tbody>\n",
       "</table>\n",
       "</div>"
      ],
      "text/plain": [
       "          biomass    soil_sat\n",
       "count  150.000000  150.000000\n",
       "mean    14.796386    0.431194\n",
       "std      2.865822    0.219110\n",
       "min     10.099000    0.061393\n",
       "25%     12.219865    0.240053\n",
       "50%     14.969650    0.416034\n",
       "75%     17.348418    0.612023\n",
       "max     20.137618    0.800000"
      ]
     },
     "execution_count": 25,
     "metadata": {},
     "output_type": "execute_result"
    }
   ],
   "source": [
    "df.describe()"
   ]
  },
  {
   "cell_type": "code",
   "execution_count": 26,
   "id": "8f0df2ee-fec2-4f52-8d43-3fc6b135ffa7",
   "metadata": {
    "tags": []
   },
   "outputs": [
    {
     "data": {
      "text/plain": [
       "<Axes: xlabel='time'>"
      ]
     },
     "execution_count": 26,
     "metadata": {},
     "output_type": "execute_result"
    },
    {
     "data": {
      "image/png": "[encoded data removed]",
      "text/plain": [
       "<Figure size 640x480 with 1 Axes>"
      ]
     },
     "metadata": {},
     "output_type": "display_data"
    }
   ],
   "source": [
    "df['biomass'].plot()"
   ]
  },
  {
   "cell_type": "code",
   "execution_count": 27,
   "id": "35d2a9ff-4d09-4ec2-951d-9d96c9b6e43d",
   "metadata": {
    "tags": []
   },
   "outputs": [
    {
     "data": {
      "text/plain": [
       "<Axes: xlabel='time'>"
      ]
     },
     "execution_count": 27,
     "metadata": {},
     "output_type": "execute_result"
    },
    {
     "data": {
      "image/png": "[encoded data removed]",
      "text/plain": [
       "<Figure size 640x480 with 1 Axes>"
      ]
     },
     "metadata": {},
     "output_type": "display_data"
    }
   ],
   "source": [
    "df['soil_sat'].plot()"
   ]
  },
  {
   "cell_type": "code",
   "execution_count": null,
   "id": "59c572d8-a439-428b-833b-15625084257c",
   "metadata": {},
   "outputs": [],
   "source": []
  }
 ],
 "metadata": {
  "kernelspec": {
   "display_name": "Python 3 (ipykernel)",
   "language": "python",
   "name": "python3"
  },
  "language_info": {
   "codemirror_mode": {
    "name": "ipython",
    "version": 3
   },
   "file_extension": ".py",
   "mimetype": "text/x-python",
   "name": "python",
   "nbconvert_exporter": "python",
   "pygments_lexer": "ipython3",
   "version": "3.11.3"
  }
 },
 "nbformat": 4,
 "nbformat_minor": 5
}
