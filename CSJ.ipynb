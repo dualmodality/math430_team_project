{
 "cells": [
  {
   "cell_type": "code",
   "execution_count": 1,
   "id": "e973b3b1-8596-4401-b0a2-762c16a54fca",
   "metadata": {
    "tags": []
   },
   "outputs": [],
   "source": [
    "#The main Jupyter notebook for running our simulation. For now we can also use this notebook to test out code segments\n",
    "\n",
    "import numpy as np\n",
    "import matplotlib.pyplot as plt\n",
    "import pandas as pd\n",
    "import random\n",
    "import CSJModel as csj"
   ]
  },
  {
   "cell_type": "code",
   "execution_count": 2,
   "id": "63dcde9d-a21f-4db2-bcf2-1af61dec8fe8",
   "metadata": {},
   "outputs": [],
   "source": [
    "#Model Parameters\n",
    "length_of_growing_season = 150\n",
    "n_seasons_per_trial = 10\n",
    "n_trials = 10000\n",
    "n_plots = 4\n",
    "plot_capacity = 1000\n",
    "initial_soil_sat = 0.5\n",
    "base_soil_sat_loss_rate = 0.05\n",
    "biomass_water_demand_rate = 0.001\n",
    "end_of_season_die_off = 0.9\n",
    "temp = 20\n",
    "rel_hum = .7"
   ]
  },
  {
   "cell_type": "code",
   "execution_count": 3,
   "id": "1ae732de-2da0-4521-b660-c50dac248bf9",
   "metadata": {
    "tags": []
   },
   "outputs": [],
   "source": [
    "#This is the class/template we can use to create different species of plants. Each Plant object holds the variables/parameters\n",
    "#that are related to how the species behaves\n",
    "\n",
    "class Plant:\n",
    "    \n",
    "    def __init__(self, n, rate, k, alpha, mass):\n",
    "        self.name = str(n)\n",
    "        self.base_growth_rate = rate\n",
    "        self.ideal_soil_sat = k\n",
    "        self.ideal_sat_alpha = alpha\n",
    "        self.biomass = mass\n",
    "    \n",
    "    def growth_rate(self, soil_sat):\n",
    "        return (-1 * self.ideal_sat_alpha * (soil_sat - self.ideal_soil_sat) ** 2 + 1) * self.base_growth_rate\n",
    "\n",
    "#This line creates a new plant species and saves it in the test variable. This species has a base growth rate of 1%/day, likes 50%\n",
    "#soil saturation, and has saturation tolerance parameter of 10, and is starting with 10 biomass units\n",
    "#In order to get the plant's actual growth rate, we call the .growth_rate() method and pass in the current level of soil saturation\n",
    "\n",
    "test = Plant('my_plant', 0.01, 0.5, 10, 10)"
   ]
  },
  {
   "cell_type": "code",
   "execution_count": 4,
   "id": "a52c89aa-3c1c-48c0-b464-5177123cd7be",
   "metadata": {},
   "outputs": [],
   "source": [
    "#This class implements a \"Plot\" container that represents an area/habitat for various plant species.\n",
    "#The class has a list that [should] contain different species of plant, and keeps track the current\n",
    "#soil saturation, its carrying capacity, and the soil's base saturation rate. There is also a method that returns\n",
    "#the total biomass of all plants in the plot, a method to cause the plot to dry out a little, and a method\n",
    "#to re-hydrate the plot up to a given saturation level (capped at 1.0)\n",
    "\n",
    "class Plot:\n",
    "    \n",
    "    def __init__(self, plant_list, cap, sat, h2o_base_rate):\n",
    "        self.species_list = plant_list\n",
    "        self.capacity = cap\n",
    "        self.soil_saturation = sat\n",
    "        self.base_saturation_rate = h2o_base_rate\n",
    "    \n",
    "    def dry(self):\n",
    "        self.soil_saturation -= self.base_saturation_rate * self.soil_saturation\n",
    "    \n",
    "    def wet(self, sat):\n",
    "        self.soil_saturation = min(self.soil_saturation + sat, 1.0)\n",
    "        \n",
    "    def total_biomass(self):\n",
    "        total = 0\n",
    "        for plant in self.species_list:\n",
    "            total += plant.biomass\n",
    "        return total\n",
    "\n"
   ]
  },
  {
   "cell_type": "code",
   "execution_count": 5,
   "id": "fd122e32-3e23-441b-bb62-86e681abf188",
   "metadata": {},
   "outputs": [],
   "source": [
    "#Set up a function for running a single trial that returns summary results from the trial.\n",
    "\n",
    "def run_trial(plot):\n",
    "    daily_list = []\n",
    "    for time in range(length_of_growing_season):\n",
    "        datapoint = {'time': time}\n",
    "        for plant in test_plot.species_list:\n",
    "            plant.biomass += plant.growth_rate(test_plot.soil_saturation) * plant.biomass * (1 - (plant.biomass/test_plot.capacity))\n",
    "            datapoint[plant.name + '_biomass'] = plant.biomass\n",
    "        if random.randint(0, 100) > 94:\n",
    "            test_plot.wet(0.8)\n",
    "        else:\n",
    "            test_plot.dry()\n",
    "        datapoint['soil_sat'] = test_plot.soil_saturation\n",
    "        daily_list.append(datapoint)\n",
    "    df = pd.DataFrame.from_records(daily_list, index='time')\n",
    "    trial_dict = {}\n",
    "    for key in df.describe().to_dict().keys():\n",
    "        trial_dict[key + '_mean'] = df.describe().to_dict()[key]['mean']\n",
    "        trial_dict[key + '_std'] = df.describe().to_dict()[key]['std']\n",
    "        trial_dict[key + '_min'] = df.describe().to_dict()[key]['min']\n",
    "        trial_dict[key + '_med'] = df.describe().to_dict()[key]['50%']\n",
    "        trial_dict[key + '_max'] = df.describe().to_dict()[key]['max']\n",
    "    return trial_dict\n",
    "        "
   ]
  },
  {
   "cell_type": "code",
   "execution_count": 7,
   "id": "bc02d6c3-4d90-4c26-b7d8-77cb7b6be256",
   "metadata": {},
   "outputs": [
    {
     "data": {
      "text/html": [
       "<div>\n",
       "<style scoped>\n",
       "    .dataframe tbody tr th:only-of-type {\n",
       "        vertical-align: middle;\n",
       "    }\n",
       "\n",
       "    .dataframe tbody tr th {\n",
       "        vertical-align: top;\n",
       "    }\n",
       "\n",
       "    .dataframe thead th {\n",
       "        text-align: right;\n",
       "    }\n",
       "</style>\n",
       "<table border=\"1\" class=\"dataframe\">\n",
       "  <thead>\n",
       "    <tr style=\"text-align: right;\">\n",
       "      <th></th>\n",
       "      <th>my_plant_biomass_mean</th>\n",
       "      <th>my_plant_biomass_std</th>\n",
       "      <th>my_plant_biomass_min</th>\n",
       "      <th>my_plant_biomass_med</th>\n",
       "      <th>my_plant_biomass_max</th>\n",
       "      <th>soil_sat_mean</th>\n",
       "      <th>soil_sat_std</th>\n",
       "      <th>soil_sat_min</th>\n",
       "      <th>soil_sat_med</th>\n",
       "      <th>soil_sat_max</th>\n",
       "    </tr>\n",
       "  </thead>\n",
       "  <tbody>\n",
       "    <tr>\n",
       "      <th>count</th>\n",
       "      <td>10000.000000</td>\n",
       "      <td>10000.000000</td>\n",
       "      <td>10000.000000</td>\n",
       "      <td>10000.000000</td>\n",
       "      <td>10000.000000</td>\n",
       "      <td>10000.000000</td>\n",
       "      <td>10000.000000</td>\n",
       "      <td>10000.000000</td>\n",
       "      <td>10000.000000</td>\n",
       "      <td>10000.000000</td>\n",
       "    </tr>\n",
       "    <tr>\n",
       "      <th>mean</th>\n",
       "      <td>11.925609</td>\n",
       "      <td>1.354332</td>\n",
       "      <td>9.663451</td>\n",
       "      <td>11.838647</td>\n",
       "      <td>14.506204</td>\n",
       "      <td>0.547923</td>\n",
       "      <td>0.261014</td>\n",
       "      <td>0.117469</td>\n",
       "      <td>0.536828</td>\n",
       "      <td>0.999433</td>\n",
       "    </tr>\n",
       "    <tr>\n",
       "      <th>std</th>\n",
       "      <td>1.175356</td>\n",
       "      <td>0.494386</td>\n",
       "      <td>0.879258</td>\n",
       "      <td>1.230141</td>\n",
       "      <td>1.884105</td>\n",
       "      <td>0.099081</td>\n",
       "      <td>0.030446</td>\n",
       "      <td>0.074776</td>\n",
       "      <td>0.130517</td>\n",
       "      <td>0.010012</td>\n",
       "    </tr>\n",
       "    <tr>\n",
       "      <th>min</th>\n",
       "      <td>6.862925</td>\n",
       "      <td>0.308558</td>\n",
       "      <td>2.208061</td>\n",
       "      <td>6.639534</td>\n",
       "      <td>10.099000</td>\n",
       "      <td>0.063304</td>\n",
       "      <td>0.107222</td>\n",
       "      <td>0.000228</td>\n",
       "      <td>0.010405</td>\n",
       "      <td>0.475000</td>\n",
       "    </tr>\n",
       "    <tr>\n",
       "      <th>25%</th>\n",
       "      <td>11.244381</td>\n",
       "      <td>0.966525</td>\n",
       "      <td>9.620065</td>\n",
       "      <td>11.116242</td>\n",
       "      <td>13.089897</td>\n",
       "      <td>0.486831</td>\n",
       "      <td>0.241065</td>\n",
       "      <td>0.057991</td>\n",
       "      <td>0.457271</td>\n",
       "      <td>1.000000</td>\n",
       "    </tr>\n",
       "    <tr>\n",
       "      <th>50%</th>\n",
       "      <td>12.054183</td>\n",
       "      <td>1.311419</td>\n",
       "      <td>10.076063</td>\n",
       "      <td>11.931771</td>\n",
       "      <td>14.479736</td>\n",
       "      <td>0.558125</td>\n",
       "      <td>0.261125</td>\n",
       "      <td>0.104674</td>\n",
       "      <td>0.554580</td>\n",
       "      <td>1.000000</td>\n",
       "    </tr>\n",
       "    <tr>\n",
       "      <th>75%</th>\n",
       "      <td>12.748350</td>\n",
       "      <td>1.685839</td>\n",
       "      <td>10.099000</td>\n",
       "      <td>12.683887</td>\n",
       "      <td>15.832249</td>\n",
       "      <td>0.618926</td>\n",
       "      <td>0.280736</td>\n",
       "      <td>0.166083</td>\n",
       "      <td>0.630249</td>\n",
       "      <td>1.000000</td>\n",
       "    </tr>\n",
       "    <tr>\n",
       "      <th>max</th>\n",
       "      <td>14.618333</td>\n",
       "      <td>3.145257</td>\n",
       "      <td>10.099000</td>\n",
       "      <td>14.699841</td>\n",
       "      <td>20.623379</td>\n",
       "      <td>0.796206</td>\n",
       "      <td>0.392224</td>\n",
       "      <td>0.463291</td>\n",
       "      <td>0.814506</td>\n",
       "      <td>1.000000</td>\n",
       "    </tr>\n",
       "  </tbody>\n",
       "</table>\n",
       "</div>"
      ],
      "text/plain": [
       "       my_plant_biomass_mean  my_plant_biomass_std  my_plant_biomass_min  \\\n",
       "count           10000.000000          10000.000000          10000.000000   \n",
       "mean               11.925609              1.354332              9.663451   \n",
       "std                 1.175356              0.494386              0.879258   \n",
       "min                 6.862925              0.308558              2.208061   \n",
       "25%                11.244381              0.966525              9.620065   \n",
       "50%                12.054183              1.311419             10.076063   \n",
       "75%                12.748350              1.685839             10.099000   \n",
       "max                14.618333              3.145257             10.099000   \n",
       "\n",
       "       my_plant_biomass_med  my_plant_biomass_max  soil_sat_mean  \\\n",
       "count          10000.000000          10000.000000   10000.000000   \n",
       "mean              11.838647             14.506204       0.547923   \n",
       "std                1.230141              1.884105       0.099081   \n",
       "min                6.639534             10.099000       0.063304   \n",
       "25%               11.116242             13.089897       0.486831   \n",
       "50%               11.931771             14.479736       0.558125   \n",
       "75%               12.683887             15.832249       0.618926   \n",
       "max               14.699841             20.623379       0.796206   \n",
       "\n",
       "       soil_sat_std  soil_sat_min  soil_sat_med  soil_sat_max  \n",
       "count  10000.000000  10000.000000  10000.000000  10000.000000  \n",
       "mean       0.261014      0.117469      0.536828      0.999433  \n",
       "std        0.030446      0.074776      0.130517      0.010012  \n",
       "min        0.107222      0.000228      0.010405      0.475000  \n",
       "25%        0.241065      0.057991      0.457271      1.000000  \n",
       "50%        0.261125      0.104674      0.554580      1.000000  \n",
       "75%        0.280736      0.166083      0.630249      1.000000  \n",
       "max        0.392224      0.463291      0.814506      1.000000  "
      ]
     },
     "execution_count": 7,
     "metadata": {},
     "output_type": "execute_result"
    }
   ],
   "source": [
    "#Outer Monte Carlo-Style loop\n",
    "trial_list = []\n",
    "for trial in range(n_trials):\n",
    "    test_plot = Plot([Plant('my_plant', 0.01, 0.5, 10, 10)], plot_capacity, initial_soil_sat, base_soil_sat_loss_rate)\n",
    "    trial_list.append(run_trial(test_plot))\n",
    "trial_df = pd.DataFrame.from_records(trial_list)\n",
    "trial_df.describe()"
   ]
  },
  {
   "cell_type": "code",
   "execution_count": 8,
   "id": "822f4883-f876-41d4-97b6-e1ce291c4d76",
   "metadata": {
    "tags": []
   },
   "outputs": [
    {
     "data": {
      "text/plain": [
       "<Axes: >"
      ]
     },
     "execution_count": 8,
     "metadata": {},
     "output_type": "execute_result"
    },
    {
     "data": {
      "image/png": "[encoded data removed]",
      "text/plain": [
       "<Figure size 640x480 with 1 Axes>"
      ]
     },
     "metadata": {},
     "output_type": "display_data"
    }
   ],
   "source": [
    "trial_df['my_plant_biomass_mean'].hist()"
   ]
  },
  {
   "cell_type": "code",
   "execution_count": 10,
   "id": "8f0df2ee-fec2-4f52-8d43-3fc6b135ffa7",
   "metadata": {
    "tags": []
   },
   "outputs": [
    {
     "data": {
      "text/plain": [
       "<Axes: xlabel='time'>"
      ]
     },
     "execution_count": 10,
     "metadata": {},
     "output_type": "execute_result"
    },
    {
     "data": {
      "image/png": "[encoded data removed]",
      "text/plain": [
       "<Figure size 640x480 with 1 Axes>"
      ]
     },
     "metadata": {},
     "output_type": "display_data"
    }
   ],
   "source": [
    "df['my_plant_biomass'].plot()"
   ]
  },
  {
   "cell_type": "code",
   "execution_count": 11,
   "id": "35d2a9ff-4d09-4ec2-951d-9d96c9b6e43d",
   "metadata": {
    "tags": []
   },
   "outputs": [
    {
     "data": {
      "text/plain": [
       "<Axes: xlabel='time'>"
      ]
     },
     "execution_count": 11,
     "metadata": {},
     "output_type": "execute_result"
    },
    {
     "data": {
      "image/png": "[encoded data removed]",
      "text/plain": [
       "<Figure size 640x480 with 1 Axes>"
      ]
     },
     "metadata": {},
     "output_type": "display_data"
    }
   ],
   "source": [
    "df['soil_sat'].plot()"
   ]
  },
  {
   "cell_type": "code",
   "execution_count": null,
   "id": "59c572d8-a439-428b-833b-15625084257c",
   "metadata": {},
   "outputs": [],
   "source": []
  }
 ],
 "metadata": {
  "kernelspec": {
   "display_name": "Python 3 (ipykernel)",
   "language": "python",
   "name": "python3"
  },
  "language_info": {
   "codemirror_mode": {
    "name": "ipython",
    "version": 3
   },
   "file_extension": ".py",
   "mimetype": "text/x-python",
   "name": "python",
   "nbconvert_exporter": "python",
   "pygments_lexer": "ipython3",
   "version": "3.11.3"
  }
 },
 "nbformat": 4,
 "nbformat_minor": 5
}
