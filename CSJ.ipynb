{
 "cells": [
  {
   "cell_type": "code",
   "execution_count": 2,
   "id": "e973b3b1-8596-4401-b0a2-762c16a54fca",
   "metadata": {
    "tags": []
   },
   "outputs": [],
   "source": [
    "#The main Jupyter notebook for running our simulation. For now we can also use this notebook to test out code segments\n",
    "\n",
    "import numpy as np\n",
    "import matplotlib.pyplot as plt\n",
    "import pandas as pd\n",
    "import CSJModel as csj"
   ]
  },
  {
   "cell_type": "markdown",
   "id": "fd550078-2282-4152-95d6-135141c1610e",
   "metadata": {},
   "source": [
    "## Possible Variables and Parameters in the Model\n",
    "* Variable: number of Plants in the plot\n",
    "* Variable for each Plant:\n",
    "    * base growth rate\n",
    "    * mean height\n",
    "    * mean root depth\n",
    "    * ideal water\n",
    "    * water tolerance (is this a function of root depth?)\n",
    "    * % die-off between growing seasons\n",
    "    * shade tolerance(?)\n",
    "* Parameter: total carrying capacity of the plot\n",
    "* Parameter: number of growing seasons\n",
    "* Parameter: length of growing season\n",
    "* Variable: Precipitation during growing season\n",
    "* Output: % of carrying capacity at end of each season"
   ]
  },
  {
   "cell_type": "markdown",
   "id": "0db79e1b-cc57-4928-9075-3319751f500a",
   "metadata": {},
   "source": [
    "## Possible Interactions to Model\n",
    "* Competition for resources (space) among plant species\n",
    "    * Suggest using a single plot carrying capacity that each species participates in filling\n",
    "* Water availability: a function of precipitation and possibly root depth of plant\n",
    "* Shade from taller plants helps prevent water loss during drought, but maybe inhibits growth of plants that need full sun(?)"
   ]
  },
  {
   "cell_type": "code",
   "execution_count": null,
   "id": "63dcde9d-a21f-4db2-bcf2-1af61dec8fe8",
   "metadata": {},
   "outputs": [],
   "source": []
  }
 ],
 "metadata": {
  "kernelspec": {
   "display_name": "Python 3 (ipykernel)",
   "language": "python",
   "name": "python3"
  },
  "language_info": {
   "codemirror_mode": {
    "name": "ipython",
    "version": 3
   },
   "file_extension": ".py",
   "mimetype": "text/x-python",
   "name": "python",
   "nbconvert_exporter": "python",
   "pygments_lexer": "ipython3",
   "version": "3.11.3"
  }
 },
 "nbformat": 4,
 "nbformat_minor": 5
}
