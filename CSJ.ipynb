{
 "cells": [
  {
   "cell_type": "code",
   "execution_count": 2,
   "id": "e973b3b1-8596-4401-b0a2-762c16a54fca",
   "metadata": {
    "tags": []
   },
   "outputs": [],
   "source": [
    "#The main Jupyter notebook for running our simulation. For now we can also use this notebook to test out code segments\n",
    "\n",
    "import numpy as np\n",
    "import matplotlib.pyplot as plt\n",
    "import pandas as pd\n",
    "import random\n",
    "import copy\n",
    "import CSJModel as csj"
   ]
  },
  {
   "cell_type": "code",
   "execution_count": 3,
   "id": "63dcde9d-a21f-4db2-bcf2-1af61dec8fe8",
   "metadata": {},
   "outputs": [],
   "source": [
    "#Model Parameters\n",
    "length_of_growing_season = 150\n",
    "n_seasons_per_trial = 10\n",
    "n_trials = 10000\n",
    "plot_capacity = 1000\n",
    "initial_soil_sat = 0.5\n",
    "base_soil_sat_loss_rate = 0.05\n",
    "leaf_transpiration_rate = 0.01\n",
    "root_retention_rate = 0.01"
   ]
  },
  {
   "cell_type": "code",
   "execution_count": null,
   "id": "1ae732de-2da0-4521-b660-c50dac248bf9",
   "metadata": {
    "tags": []
   },
   "outputs": [],
   "source": [
    "#This line creates a new plant species and saves it in the test variable. This species has a base growth rate of 1%/day, likes 50%\n",
    "#soil saturation, and has saturation tolerance parameter of 10, and is starting with 10 biomass units\n",
    "#In order to get the plant's actual growth rate, we call the .growth_rate() method and pass in the current level of soil saturation\n",
    "\n",
    "grass = Plant('grass', 0.01, 0.5, 10, 10, 0.3)\n",
    "rose = Plant('rose', 0.02, 0.7, 15, 10, 0.5)"
   ]
  },
  {
   "cell_type": "code",
   "execution_count": 5,
   "id": "fd122e32-3e23-441b-bb62-86e681abf188",
   "metadata": {},
   "outputs": [],
   "source": [
    "#Set up a function for running a single trial that returns summary results from the trial.\n",
    "\n",
    "def run_trial(plot_list):\n",
    "    daily_list = []\n",
    "    for season in range(n_seasons_per_trial):\n",
    "        for time in range(length_of_growing_season):\n",
    "            \n",
    "            #FIGURE OUT WHAT THE WEATHER WILL BE HERE\n",
    "            if random.randint(0, 100) > 94:\n",
    "                rain = True\n",
    "            else:\n",
    "                rain = False\n",
    "            \n",
    "            for plot in plot_list:\n",
    "                datapoint = {'season': season, 'time': time, 'plot': plot.plot_id}\n",
    "                \n",
    "                #DEAL WITH THE WEATHER HERE\n",
    "                if rain:\n",
    "                    plot.wet(0.8)\n",
    "                else:\n",
    "                    plot.dry()\n",
    "                datapoint['soil_sat'] = test_plot.soil_saturation\n",
    "                \n",
    "                #Let the Plants Grow\n",
    "                for plant in plot.species_list:\n",
    "                    other_biomass = 0\n",
    "                    for plant2 in plot.species_list:\n",
    "                        if plant2 <> plant:\n",
    "                            other_biomass += plant2.biomass\n",
    "                    plant.biomass += plant.growth_rate(plot.soil_saturation) * plant.biomass * (1 - (plant.biomass/(plot.capacity - np.log(1 + other_biomass))))\n",
    "                    datapoint[plant.name + '_biomass'] = plant.biomass\n",
    "            \n",
    "            \n",
    "                daily_list.append(datapoint)\n",
    "        df = pd.DataFrame.from_records(daily_list, index=['season','time','plot'])\n",
    "        \n",
    "    return df\n",
    "        "
   ]
  },
  {
   "cell_type": "code",
   "execution_count": null,
   "id": "bc02d6c3-4d90-4c26-b7d8-77cb7b6be256",
   "metadata": {},
   "outputs": [],
   "source": [
    "#DEFINE PLANTS\n",
    "\n",
    "#DEFINE PLOTS\n",
    "\n",
    "plot_list = [\n",
    "                #PLOT_1,\n",
    "                #PLOT_2,\n",
    "                #...\n",
    "                #PLOT_N\n",
    "]\n",
    "\n",
    "#Outer Monte Carlo-Style loop\n",
    "trial_dfs = []\n",
    "for trial in range(n_trials):\n",
    "    trial_dfs.append(run_trial(copy.deepcopy(plot_list)))"
   ]
  },
  {
   "cell_type": "code",
   "execution_count": null,
   "id": "59c572d8-a439-428b-833b-15625084257c",
   "metadata": {},
   "outputs": [],
   "source": []
  }
 ],
 "metadata": {
  "kernelspec": {
   "display_name": "Python 3 (ipykernel)",
   "language": "python",
   "name": "python3"
  },
  "language_info": {
   "codemirror_mode": {
    "name": "ipython",
    "version": 3
   },
   "file_extension": ".py",
   "mimetype": "text/x-python",
   "name": "python",
   "nbconvert_exporter": "python",
   "pygments_lexer": "ipython3",
   "version": "3.11.3"
  }
 },
 "nbformat": 4,
 "nbformat_minor": 5
}
