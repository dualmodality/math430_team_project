{
 "cells": [
  {
   "cell_type": "code",
   "execution_count": 2,
   "id": "e973b3b1-8596-4401-b0a2-762c16a54fca",
   "metadata": {
    "tags": []
   },
   "outputs": [],
   "source": [
    "#The main Jupyter notebook for running our simulation. For now we can also use this notebook to test out code segments\n",
    "\n",
    "import numpy as np\n",
    "import matplotlib.pyplot as plt\n",
    "import pandas as pd\n",
    "import CSJModel as csj"
   ]
  },
  {
   "cell_type": "code",
   "execution_count": 3,
   "id": "63dcde9d-a21f-4db2-bcf2-1af61dec8fe8",
   "metadata": {},
   "outputs": [],
   "source": [
    "#Model Parameters\n",
    "length_of_growing_season = 150\n",
    "n_seasons_per_trial = 10\n",
    "n_trials = 10000\n",
    "n_plots = 4\n",
    "plot_capacity = 1000\n",
    "initial_soil_sat = 0.5\n",
    "base_soil_sat_loss_rate = 0.05\n",
    "end_of_season_die_off = 0.9\n",
    "temp = 20\n",
    "rel_hum = .7"
   ]
  },
  {
   "cell_type": "code",
   "execution_count": null,
   "id": "bc02d6c3-4d90-4c26-b7d8-77cb7b6be256",
   "metadata": {},
   "outputs": [],
   "source": [
    "trial_list = []\n",
    "for trial in range(n_trials):\n",
    "    trial_dict = {}"
   ]
  },
  {
   "cell_type": "code",
   "execution_count": 1,
   "id": "1ae732de-2da0-4521-b660-c50dac248bf9",
   "metadata": {
    "tags": []
   },
   "outputs": [
    {
     "name": "stdout",
     "output_type": "stream",
     "text": [
      "-0.006000000000000004\n",
      "0.009000000000000001\n"
     ]
    }
   ],
   "source": [
    "class Plant:\n",
    "    \n",
    "    def __init__(self, n, rate, k, alpha):\n",
    "        self.name = str(n)\n",
    "        self.base_growth_rate = rate\n",
    "        self.ideal_soil_sat = k\n",
    "        self.ideal_sat_alpha = alpha\n",
    "    \n",
    "    def growth_rate(self, soil_sat):\n",
    "        return (-1 * self.ideal_sat_alpha * (soil_sat - self.ideal_soil_sat) ** 2 + 1) * self.base_growth_rate\n",
    "\n",
    "test = Plant('my_plant', 0.01, 0.5, 10)\n",
    "print(test.growth_rate(0.1))\n",
    "print(test.growth_rate(0.6))"
   ]
  },
  {
   "cell_type": "code",
   "execution_count": 4,
   "id": "a52c89aa-3c1c-48c0-b464-5177123cd7be",
   "metadata": {},
   "outputs": [
    {
     "name": "stdout",
     "output_type": "stream",
     "text": [
      "0.475\n",
      "0.45125\n",
      "0.42868749999999994\n",
      "0.40725312499999994\n",
      "0.38689046874999994\n",
      "0.3675459453124999\n",
      "0.34916864804687486\n",
      "0.3317102156445311\n",
      "0.31512470486230454\n",
      "0.2993684696191893\n",
      "0.99\n"
     ]
    }
   ],
   "source": [
    "class Plot:\n",
    "    \n",
    "    def __init__(self, plant_list, cap, sat, h2o_rate):\n",
    "        self.species_list = plant_list\n",
    "        self.capacity = cap\n",
    "        self.soil_saturation = sat\n",
    "        self.base_saturation_rate = h2o_rate\n",
    "    \n",
    "    def dry(self):\n",
    "        self.soil_saturation = (1 - self.base_saturation_rate) * self.soil_saturation\n",
    "    \n",
    "    def wet(self, sat):\n",
    "        self.soil_saturation = sat\n",
    "\n",
    "test_plot = Plot([(test, 10)], plot_capacity, initial_soil_sat, base_soil_sat_loss_rate)\n",
    "for i in range(10):\n",
    "    test_plot.dry()\n",
    "    print(test_plot.soil_saturation)\n",
    "\n",
    "test_plot.wet(0.99)\n",
    "print(test_plot.soil_saturation)"
   ]
  },
  {
   "cell_type": "code",
   "execution_count": null,
   "id": "fd122e32-3e23-441b-bb62-86e681abf188",
   "metadata": {},
   "outputs": [],
   "source": []
  },
  {
   "cell_type": "code",
   "execution_count": null,
   "id": "20d6244e-8bc8-4755-af99-23ed3a968241",
   "metadata": {},
   "outputs": [],
   "source": [
    "def VPD(temp = 20, rel_hum = 0.7):\n",
    "    return ((0.6108 * np.exp((17.27 * temp)/(temp + 237.3))) - (rel_hum * 0.6108 * np.exp((17.27 * temp)/(temp + 237.3))))"
   ]
  }
 ],
 "metadata": {
  "kernelspec": {
   "display_name": "Python 3 (ipykernel)",
   "language": "python",
   "name": "python3"
  },
  "language_info": {
   "codemirror_mode": {
    "name": "ipython",
    "version": 3
   },
   "file_extension": ".py",
   "mimetype": "text/x-python",
   "name": "python",
   "nbconvert_exporter": "python",
   "pygments_lexer": "ipython3",
   "version": "3.11.3"
  }
 },
 "nbformat": 4,
 "nbformat_minor": 5
}
